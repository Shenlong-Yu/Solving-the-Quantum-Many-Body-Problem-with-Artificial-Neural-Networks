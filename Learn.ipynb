{
 "cells": [
  {
   "cell_type": "markdown",
   "metadata": {},
   "source": [
    "Classical Monte Carlo\n"
   ]
  },
  {
   "cell_type": "code",
   "execution_count": 1,
   "metadata": {},
   "outputs": [
    {
     "name": "stdout",
     "output_type": "stream",
     "text": [
      "25274 24726\n"
     ]
    }
   ],
   "source": [
    "from random import random\n",
    "n=50000 #掷硬币次数\n",
    "s0=0 #累计正面出现的次数\n",
    "s1=0 #累计反面出现的个数\n",
    "for i in range(n):\n",
    "    a=random() #产生0~1之间随机数，为概率分布为均匀分布\n",
    "    if a<0.5:\n",
    "        s0+=1\n",
    "    elif a>=0.5:\n",
    "        s1+=1\n",
    "print(s0,s1)\n"
   ]
  },
  {
   "cell_type": "code",
   "execution_count": 2,
   "metadata": {},
   "outputs": [
    {
     "name": "stdout",
     "output_type": "stream",
     "text": [
      "[3.28, 3.192, 3.1992, 3.1424864]\n"
     ]
    }
   ],
   "source": [
    "from random import random\n",
    "n=[100,1000,5000,10000000]\n",
    "pi=[]\n",
    "for i in n:\n",
    "    s=0\n",
    "    for j in range(i):\n",
    "        x=random()\n",
    "        y=random()\n",
    "        if x**2+y**2<1:\n",
    "            s+=1\n",
    "    pi.append(4*s/i)\n",
    "print(pi)"
   ]
  }
 ],
 "metadata": {
  "kernelspec": {
   "display_name": "base",
   "language": "python",
   "name": "python3"
  },
  "language_info": {
   "codemirror_mode": {
    "name": "ipython",
    "version": 3
   },
   "file_extension": ".py",
   "mimetype": "text/x-python",
   "name": "python",
   "nbconvert_exporter": "python",
   "pygments_lexer": "ipython3",
   "version": "3.11.4"
  },
  "orig_nbformat": 4
 },
 "nbformat": 4,
 "nbformat_minor": 2
}
