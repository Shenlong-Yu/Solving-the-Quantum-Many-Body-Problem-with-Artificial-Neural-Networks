{
 "cells": [
  {
   "cell_type": "markdown",
   "metadata": {},
   "source": [
    "# Solving the quantum many-body problem with NQS\n",
    "## 1D Transverse Field Ising (TFI) model "
   ]
  },
  {
   "cell_type": "code",
   "execution_count": 1,
   "metadata": {
    "collapsed": false
   },
   "outputs": [],
   "source": [
    "# Initialize NQS\n",
    "import numpy as np  \n",
    "\n",
    "# Generate NN nodes.\n",
    "N =  4\n",
    "alpha = 2 \n",
    "M = alpha * N  \n",
    "\n",
    "# External magnetic field\n",
    "h = 2  \n",
    "\n",
    "# Initialize the weights and biases\n",
    "def random_complex(size): \n",
    "    a = (np.random.random(size) - .5) * 10e-2  \n",
    "    b = (np.random.random(size) - .5) * 10e-2  # random number -0.005~0.005\n",
    "    return a + 1j*b  \n",
    "a = random_complex(N)  \n",
    "b = random_complex(M)  \n",
    "W = random_complex((N,M)) \n"
   ]
  },
  {
   "cell_type": "markdown",
   "metadata": {},
   "source": [
    "Variational expression for the wave function:\n",
    "\n",
    "$\\begin{aligned} \\Psi_N(\\boldsymbol{S},\\boldsymbol{W} ) & = \\langle S|\\psi\\rangle=\\sum_{h_j \\in\\{-1,1\\}} \\exp (\\boldsymbol{a}^T \\boldsymbol{S}+\\boldsymbol{b}^T \\boldsymbol{h}+\\boldsymbol{S}^T \\boldsymbol{W} \\boldsymbol{h}) \\\\ & =\\exp (\\boldsymbol{a}^T \\boldsymbol{S}) \\prod_j^{M} 2 \\cosh (\\theta_j)\\end{aligned}$\n",
    "\n",
    "where the effective angle $\\theta_j(\\mathcal{S})=b_j+\\sum_i  W_{i j}\\sigma_i$."
   ]
  },
  {
   "cell_type": "code",
   "execution_count": 2,
   "metadata": {
    "collapsed": true
   },
   "outputs": [],
   "source": [
    "# define wave function\n",
    "def theta(Spin):  \n",
    "    return b + W.T @ Spin  \n",
    "\n",
    "def Psi_M(Spin):  \n",
    "    return np.exp(a @ Spin) * np.prod(2*np.cosh(theta(Spin)))  "
   ]
  },
  {
   "cell_type": "markdown",
   "metadata": {},
   "source": [
    "Hamiltonian of 1D transverse field Ising model:\n",
    "$$H_{\\text{TFI}}= - \\sum_{ij}\\sigma_i^z\\sigma_j^z -h\\sum_i \\sigma_i^x$$\n",
    "\n",
    "Calculating the local energy for a state $\\mathcal{S}$,\n",
    "\n",
    "$$E_\\text{loc}=\\frac{\\langle\\mathcal{S}|H|\\Psi_M\\rangle}{\\langle\\mathcal{S}|\\Psi_M\\rangle}=\\frac{\\sum_{S'}\\Psi_M(S')\\langle\\mathcal{S}|H|S'\\rangle}{\\Psi_M(\\mathcal{S})}$$\n"
   ]
  },
  {
   "cell_type": "code",
   "execution_count": 3,
   "metadata": {
    "collapsed": true
   },
   "outputs": [],
   "source": [
    "# define local energy\n",
    "def E_local(State):\n",
    "    # \\sigma^z part : scan all the sites\n",
    "    State=np.array(State)\n",
    "\n",
    "    E_z = 0 \n",
    "    for i in range(N): \n",
    "        if i == N-1:  \n",
    "            E_z+=(State[i]*State[0])  \n",
    "        else:\n",
    "            E_z+=(State[i]*State[i+1])  \n",
    "    E_z = -1*E_z\n",
    "    \n",
    "    E_x= 0\n",
    "    # 只有和自己只差一个spin的会留下来\n",
    "    for i in range(N):  \n",
    "        State[i] *= -1  \n",
    "        E_x += Psi_M(State)\n",
    "        State[i] *= -1  # 恢复原值\n",
    "    E_x = -h*E_x/Psi_M(State)  # 除以波函数\n",
    "\n",
    "    E_total= E_z + E_x \n",
    "    return E_total/N  # 返回E除以N的值作为局部能量"
   ]
  },
  {
   "cell_type": "code",
   "execution_count": 4,
   "metadata": {},
   "outputs": [
    {
     "name": "stdout",
     "output_type": "stream",
     "text": [
      "The average local energy is:  (1.9996663768572505-0.0034160296189508117j)\n"
     ]
    }
   ],
   "source": [
    "# Import the product function to generate all possible basis states\n",
    "from itertools import product\n",
    "\n",
    "# Generate all possible basis states\n",
    "basis = list(product([1,-1],repeat=N))\n",
    "\n",
    "\n",
    "# Calculate the local energy for each basis state\n",
    "E = [E_local(basis[i]) for i in range(2**N)]\n",
    "\n",
    "# Calculate the average local energy\n",
    "avg_E_local = np.mean(E)\n",
    "print(\"The average local energy is: \", avg_E_local)"
   ]
  },
  {
   "cell_type": "markdown",
   "metadata": {},
   "source": [
    "Markov chain sampling\n",
    "$$S_0 \\xrightarrow[and \\ judge]{flip \\ a \\ spin} S_1 \\rightarrow S_2 \\rightarrow S_3 \\rightarrow S_4 \\rightarrow \\cdots$$\n",
    "$$P(\\text{accept})=\\frac{\\Psi_M(\\mathcal{S}_\\text{new})\\Psi^*_M(\\mathcal{S}_\\text{new})}{\\Psi_M(\\mathcal{S}_\\text{old})\\Psi^*_M(\\mathcal{S}_\\text{old})}$$"
   ]
  },
  {
   "cell_type": "code",
   "execution_count": 5,
   "metadata": {
    "collapsed": true
   },
   "outputs": [],
   "source": [
    "# MCMC sampling\n",
    "def MCMC_sampling(Spin):\n",
    "    # Choose random sites to be flipped\n",
    "    sites = np.random.choice(N, size=1, replace=False)\n",
    "    Psi_M_before = Psi_M(Spin)  \n",
    "    for i in sites:  \n",
    "        Spin[i] *= -1\n",
    "    Psi_M_after = Psi_M(Spin) \n",
    "    acceptance = np.real(Psi_M_after*np.conj(Psi_M_after)/(Psi_M_before*np.conj(Psi_M_before))) \n",
    "\n",
    "    # <U, reject\n",
    "    if acceptance < np.random.uniform():  \n",
    "        for i in sites:  \n",
    "            Spin[i] *= -1 \n",
    "        return 1 \n",
    "    # <U, accept\n",
    "    else:\n",
    "        return 0  "
   ]
  },
  {
   "cell_type": "markdown",
   "metadata": {},
   "source": [
    "Keep track of $\\nabla_\\mathcal{W}E_\\text{loc}$ and use these to update $\\mathcal{W}=\\{a,b,W\\}$\n",
    "\n",
    "$$\\nabla_\\mathcal{W}\\left<E\\right>=\\nabla_\\mathcal{W}\\sum_{s}E_\\text{loc}P(s)=\\sum_{s}P(s)\\nabla_\\mathcal{W}E_\\text{loc}+E_\\text{loc}\\nabla_\\mathcal{W}P(s)$$\n",
    "In this simulation we only keep track of the first term:\n",
    "$$\n",
    "\\partial_{a_i}E_\\text{loc}(S)=-h\\frac{\\Psi_M(S_\\text{flip i})}{\\Psi_M(S)}\\left[2\\sigma_i^z\\right]\n",
    "$$1\n",
    "$$\n",
    "\\partial_{b_j}E_\\text{loc}(S)=-h\\sum_{i}^N\\frac{\\Psi_M(S_\\text{flip i})}{\\Psi_M(S)}\\left[\\tanh{\\theta_j(S_\\text{flip i})}-\\tanh{\\theta_j(S)}\\right]\n",
    "$$\n",
    "$$\n",
    "\\partial_{W_{ij}}E_\\text{loc}(S)=-h\\sum_{i}^N\\frac{\\Psi_M(S_\\text{flip i})}{\\Psi_M(S)}\\left[-\\theta_i^z\\tanh{\\theta_j(S_\\text{flip i})}-\\theta_i^z\\tanh{\\theta_j(S)}\\right]\n",
    "$$"
   ]
  },
  {
   "cell_type": "code",
   "execution_count": 6,
   "metadata": {},
   "outputs": [
    {
     "name": "stdout",
     "output_type": "stream",
     "text": [
      "1. E_loc=1.9811, std=0.0159, 4.5 % rejected\n",
      "2. E_loc=1.9916, std=0.0154, 3.8 % rejected\n",
      "3. E_loc=1.9843, std=0.0155, 5.1 % rejected\n",
      "4. E_loc=1.9443, std=0.0163, 4.2 % rejected\n",
      "5. E_loc=1.9317, std=0.0164, 6.0 % rejected\n",
      "6. E_loc=1.8834, std=0.0159, 5.8 % rejected\n",
      "7. E_loc=1.8273, std=0.0161, 6.3 % rejected\n",
      "8. E_loc=1.5623, std=0.0151, 6.1 % rejected\n",
      "9. E_loc=1.2793, std=0.0161, 6.9 % rejected\n",
      "10. E_loc=0.8086, std=0.0154, 7.5 % rejected\n",
      "11. E_loc=0.2064, std=0.0152, 5.5 % rejected\n",
      "12. E_loc=-0.5002, std=0.0156, 5.2 % rejected\n",
      "13. E_loc=-1.1087, std=0.0156, 6.0 % rejected\n",
      "14. E_loc=-1.5724, std=0.0155, 5.8 % rejected\n",
      "15. E_loc=-1.8218, std=0.0158, 7.4 % rejected\n",
      "16. E_loc=-1.9236, std=0.0153, 8.9 % rejected\n",
      "17. E_loc=-1.9595, std=0.0158, 8.7 % rejected\n",
      "18. E_loc=-1.9552, std=0.0165, 8.9 % rejected\n",
      "19. E_loc=-2.0172, std=0.0164, 9.6 % rejected\n",
      "20. E_loc=-1.9797, std=0.0158, 8.9 % rejected\n",
      "21. E_loc=-1.9785, std=0.0152, 10.6 % rejected\n",
      "22. E_loc=-1.9926, std=0.0162, 11.0 % rejected\n",
      "23. E_loc=-1.9909, std=0.0163, 10.0 % rejected\n",
      "24. E_loc=-1.9897, std=0.0157, 10.1 % rejected\n",
      "25. E_loc=-1.9655, std=0.0161, 9.7 % rejected\n",
      "26. E_loc=-1.9857, std=0.0156, 12.2 % rejected\n",
      "27. E_loc=-2.0158, std=0.0153, 11.4 % rejected\n",
      "28. E_loc=-1.9781, std=0.0156, 15.2 % rejected\n",
      "29. E_loc=-1.9682, std=0.0152, 12.4 % rejected\n",
      "30. E_loc=-2.0114, std=0.0152, 15.6 % rejected\n",
      "31. E_loc=-1.9936, std=0.0153, 13.5 % rejected\n",
      "32. E_loc=-1.9808, std=0.0151, 12.0 % rejected\n",
      "33. E_loc=-1.9962, std=0.0146, 11.3 % rejected\n",
      "34. E_loc=-1.9758, std=0.0152, 12.8 % rejected\n",
      "35. E_loc=-1.9931, std=0.0157, 16.8 % rejected\n",
      "36. E_loc=-1.9968, std=0.0151, 16.7 % rejected\n",
      "37. E_loc=-1.9857, std=0.0155, 16.7 % rejected\n",
      "38. E_loc=-1.9803, std=0.0147, 15.5 % rejected\n",
      "39. E_loc=-1.9714, std=0.0149, 14.3 % rejected\n",
      "40. E_loc=-1.9949, std=0.0154, 16.5 % rejected\n",
      "41. E_loc=-1.9803, std=0.0150, 16.0 % rejected\n",
      "42. E_loc=-1.9891, std=0.0151, 17.6 % rejected\n",
      "43. E_loc=-1.9814, std=0.0150, 18.7 % rejected\n",
      "44. E_loc=-1.9722, std=0.0158, 19.0 % rejected\n",
      "45. E_loc=-1.9218, std=0.0158, 17.9 % rejected\n",
      "46. E_loc=-1.9963, std=0.0158, 17.5 % rejected\n",
      "47. E_loc=-1.9860, std=0.0144, 19.9 % rejected\n",
      "48. E_loc=-1.9673, std=0.0147, 21.7 % rejected\n",
      "49. E_loc=-1.9796, std=0.0142, 20.2 % rejected\n",
      "50. E_loc=-1.9739, std=0.0145, 24.0 % rejected\n"
     ]
    }
   ],
   "source": [
    "# Training parameters\n",
    "learning_rate = 0.05  \n",
    "learning_steps = 50\n",
    "MCMC_sample_number = 1000\n",
    "\n",
    "\n",
    "block_E = []  \n",
    "# Training the network\n",
    "for block_i in range(learning_steps):  \n",
    "    State = np.random.choice([-1, 1], size=N)\n",
    "\n",
    "    rejected = 0  \n",
    "    array_E_loc = []  \n",
    "    array_a_d = [] \n",
    "    array_b_d = []  \n",
    "    array_w_d = []  \n",
    "\n",
    "    for k in range(MCMC_sample_number):  \n",
    "        rejected += MCMC_sampling(State)  \n",
    "        # print(Spin)\n",
    "        Psi_M_s = Psi_M(State)  \n",
    "\n",
    "        # Derivative a\n",
    "        a_deriv = np.zeros(N, dtype=np.complex_)  \n",
    "        for i in range(N):  \n",
    "            State[i] *= -1  \n",
    "            a_deriv[i] = -h*Psi_M(State)/Psi_M_s*2.*State[i]  \n",
    "            State[i] *= -1  \n",
    "\n",
    "        # Derivative W\n",
    "        dW = np.zeros((N,M),dtype=np.complex_) \n",
    "        for w_i in range(N):  \n",
    "            for w_j in range(M): \n",
    "                dw_sum = 0  \n",
    "                before_flip = np.tanh(theta(State))  \n",
    "                for i in range(N):  \n",
    "                    State[i] *= -1  \n",
    "                    dw_sum += Psi_M(State)/Psi_M_s*(\n",
    "                        -State[i]*np.tanh(theta(State)[w_j])-State[i]*before_flip[w_j]) \n",
    "                    State[i] *= -1  \n",
    "                dw_sum *= h\n",
    "                dW[w_i,w_j] = dw_sum  \n",
    "\n",
    "        # Derivative b\n",
    "        b_deriv = np.zeros(M, dtype=np.complex_)  \n",
    "        for b_j in range(M):  \n",
    "            tanh_before_flip = np.tanh(theta(State))  \n",
    "            db_sum = 0  \n",
    "            for i in range(N):  \n",
    "                State[i] *= -1  \n",
    "                db_sum += Psi_M(State)/Psi_M_s*(\n",
    "                    np.tanh(theta(State)[b_j])-tanh_before_flip[b_j])  \n",
    "                State[i] *= -1  \n",
    "            b_deriv[b_j] = -h * db_sum \n",
    "\n",
    "        array_a_d.append(a_deriv)  \n",
    "        array_b_d.append(b_deriv)  \n",
    "        array_w_d.append(dW)  \n",
    "        array_E_loc.append(np.real(E_local(State)))  \n",
    "\n",
    "    print('%d. E_loc=%.4f, std=%.4f, %.1f %% rejected' % (block_i+1,\n",
    "        np.mean(array_E_loc),np.std(array_E_loc)/(np.sqrt(len(array_E_loc))), 100.*rejected/MCMC_sample_number))  \n",
    "\n",
    "    # expectation value \n",
    "    block_E.append(np.mean(array_E_loc))  \n",
    "    mean_da = np.mean(np.array(array_a_d),axis=0)  \n",
    "    mean_db = np.mean(np.array(array_b_d),axis=0)  \n",
    "    mean_dw = np.mean(np.array(array_w_d),axis=0)  \n",
    "\n",
    "    # Update the weights and biases\n",
    "    a = a - learning_rate * mean_da  \n",
    "    b = b - learning_rate * mean_db  \n",
    "    W = W - learning_rate * mean_dw  "
   ]
  },
  {
   "cell_type": "code",
   "execution_count": 7,
   "metadata": {
    "collapsed": false
   },
   "outputs": [
    {
     "data": {
      "image/png": "[encoded data removed]",
      "text/plain": [
       "<Figure size 640x480 with 1 Axes>"
      ]
     },
     "metadata": {},
     "output_type": "display_data"
    }
   ],
   "source": [
    "import matplotlib.pyplot as plt\n",
    "\n",
    "# 绘制折线图\n",
    "plt.plot(block_E)\n",
    "plt.title('Local energy')\n",
    "plt.grid(True)\n",
    "plt.ylabel(r'$<E_{loc}>/N$')\n",
    "plt.xlabel('Iterations')\n",
    "plt.show()"
   ]
  },
  {
   "cell_type": "markdown",
   "metadata": {},
   "source": [
    "Find the exact ground state energy by constructing all $H_{ij}=\\left<s_i\\right|H\\left| s_j\\right>$"
   ]
  },
  {
   "cell_type": "code",
   "execution_count": 9,
   "metadata": {},
   "outputs": [
    {
     "name": "stdout",
     "output_type": "stream",
     "text": [
      "Ground state energy: -2.135779205069859\n"
     ]
    }
   ],
   "source": [
    "# Import the product function to generate all possible basis states\n",
    "from itertools import product\n",
    "\n",
    "# Generate all possible basis states\n",
    "basis = list(product([1,-1],repeat=N))\n",
    "\n",
    "# Initialize the Hamiltonian matrix\n",
    "H = np.zeros((2**N,2**N))\n",
    "\n",
    "# Calculate each element of the Hamiltonian matrix\n",
    "for H_i in range(2**N):\n",
    "    for H_j in range(2**N):\n",
    "        H_ij = 0\n",
    "        for i in range(N):\n",
    "            if H_i == H_j:\n",
    "            # sigmaz只有对角线\n",
    "                if i == N-1:\n",
    "                    H_ij -= basis[H_j][i]*basis[H_j][0]\n",
    "                else:\n",
    "                    H_ij -= basis[H_j][i]*basis[H_j][i+1]\n",
    "            # sigmax非正交时起作用        \n",
    "            flipped_basis_j  = list(basis[H_j])\n",
    "            flipped_basis_j [i] *= -1\n",
    "            if H_i == basis.index(tuple(flipped_basis_j )):\n",
    "                H_ij -= h\n",
    "\n",
    "        H[H_i,H_j] = H_ij\n",
    "\n",
    "# Print the ground state energy\n",
    "print('Ground state energy:', np.min(np.linalg.eigvals(H))/N)\n"
   ]
  }
 ],
 "metadata": {
  "kernelspec": {
   "display_name": "Python 3",
   "language": "python",
   "name": "python3"
  },
  "language_info": {
   "codemirror_mode": {
    "name": "ipython",
    "version": 3
   },
   "file_extension": ".py",
   "mimetype": "text/x-python",
   "name": "python",
   "nbconvert_exporter": "python",
   "pygments_lexer": "ipython3",
   "version": "3.11.4"
  }
 },
 "nbformat": 4,
 "nbformat_minor": 2
}
