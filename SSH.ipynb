{
 "cells": [
  {
   "cell_type": "markdown",
   "metadata": {},
   "source": [
    "# Solving the quantum many-body problem with NQS\n",
    "## Su–Schrieffer–Heeger model"
   ]
  },
  {
   "cell_type": "code",
   "execution_count": 25,
   "metadata": {},
   "outputs": [],
   "source": [
    "# Front Matters\n",
    "import numpy as np  \n",
    "import matplotlib.pyplot as plt\n",
    "\n",
    "N = 4\n",
    "\n",
    "v = 1  # intracell hopping \n",
    "w = 1 # intercell hopping"
   ]
  },
  {
   "cell_type": "markdown",
   "metadata": {},
   "source": [
    "## Exact ground state energy \n",
    "\n",
    "$H_{ij}=<m,A|H|m,A>$"
   ]
  },
  {
   "cell_type": "code",
   "execution_count": 26,
   "metadata": {},
   "outputs": [
    {
     "name": "stdout",
     "output_type": "stream",
     "text": [
      "[[0 1 0 0 0 0 0 1]\n",
      " [1 0 1 0 0 0 0 0]\n",
      " [0 1 0 1 0 0 0 0]\n",
      " [0 0 1 0 1 0 0 0]\n",
      " [0 0 0 1 0 1 0 0]\n",
      " [0 0 0 0 1 0 1 0]\n",
      " [0 0 0 0 0 1 0 1]\n",
      " [1 0 0 0 0 0 1 0]]\n",
      "[-2.00000000e+00 -1.41421356e+00 -1.41421356e+00 -9.75400566e-17\n",
      "  1.28959293e-16  1.41421356e+00  1.41421356e+00  2.00000000e+00]\n"
     ]
    }
   ],
   "source": [
    "diag_array = [v if i % 2 == 0 else w for i in range(2 * N-1)]\n",
    "\n",
    "# Hamiltonian matrix\n",
    "Hamiltonian = np.diag(diag_array, k=1)+np.diag(diag_array, k=-1)\n",
    "\n",
    "# periodic boundary condition\n",
    "boundary = np.zeros_like(Hamiltonian)\n",
    "boundary[0, 2*N-1] = w\n",
    "boundary[2*N-1, 0] = w\n",
    "\n",
    "Hamiltonian += boundary \n",
    "print(Hamiltonian)\n",
    "\n",
    "# Eigenvalues \n",
    "eigenvalues, eigenvectors = np.linalg.eig(Hamiltonian)\n",
    "print(np.sort(eigenvalues))"
   ]
  },
  {
   "cell_type": "code",
   "execution_count": 31,
   "metadata": {},
   "outputs": [
    {
     "name": "stdout",
     "output_type": "stream",
     "text": [
      "-2.0\n"
     ]
    }
   ],
   "source": [
    "# theroetical result\n",
    "k=0\n",
    "result = -np.sqrt(v**2+w**2+2*v*w*np.cos(k))\n",
    "print(result)"
   ]
  },
  {
   "cell_type": "code",
   "execution_count": 30,
   "metadata": {},
   "outputs": [
    {
     "name": "stdout",
     "output_type": "stream",
     "text": [
      "[1 1 0 2 0 2 1 1]\n",
      "[0, 0, 1, 0, 1, 0, 1, 1]\n"
     ]
    }
   ],
   "source": [
    "# Test transation \n",
    "# Initial state\n",
    "vector = [0, 0, 1, 0,1,0,1,1]\n",
    "\n",
    "# 计算内积\n",
    "result = np.dot(Hamiltonian, vector)\n",
    "\n",
    "# 打印结果\n",
    "print(result)\n",
    "print(vector)"
   ]
  },
  {
   "cell_type": "markdown",
   "metadata": {},
   "source": [
    "## NQS ground state"
   ]
  },
  {
   "cell_type": "code",
   "execution_count": 10,
   "metadata": {
    "collapsed": false
   },
   "outputs": [],
   "source": [
    "# Initialize NQS\n",
    "\n",
    "# Generate hiden nodes.\n",
    "alpha = 2 \n",
    "M = alpha * 2*N  \n",
    "\n",
    "# Initialize the weights and biases\n",
    "def random_complex(size): \n",
    "    a = (np.random.random(size) - .5) * 10e-2  \n",
    "    b = (np.random.random(size) - .5) * 10e-2  # random number -0.005~0.005\n",
    "    return a + 1j*b  \n",
    "a = random_complex(N)  \n",
    "b = random_complex(M)  \n",
    "W = random_complex((N,M)) "
   ]
  },
  {
   "cell_type": "markdown",
   "metadata": {},
   "source": [
    "Variational expression for the wave function:\n",
    "\n",
    "$\\begin{aligned} \\Psi_N(\\boldsymbol{S},\\boldsymbol{W} ) & = \\langle S|\\psi\\rangle=\\sum_{h_j \\in\\{-1,1\\}} \\exp (\\boldsymbol{a}^T \\boldsymbol{S}+\\boldsymbol{b}^T \\boldsymbol{h}+\\boldsymbol{S}^T \\boldsymbol{W} \\boldsymbol{h}) \\\\ & =\\exp (\\boldsymbol{a}^T \\boldsymbol{S}) \\prod_j^{M} 2 \\cosh (\\theta_j)\\end{aligned}$\n",
    "\n",
    "where the effective angle $\\theta_j(\\mathcal{S})=b_j+\\sum_i  W_{i j}\\sigma_i$."
   ]
  },
  {
   "cell_type": "code",
   "execution_count": 2,
   "metadata": {
    "collapsed": true
   },
   "outputs": [],
   "source": [
    "# define wave function\n",
    "def theta(state):  \n",
    "    return b + W.T @ state  \n",
    "\n",
    "def Psi_M(state):  \n",
    "    return np.exp(a @ state) * np.prod(2*np.cosh(theta(state)))  "
   ]
  },
  {
   "cell_type": "markdown",
   "metadata": {},
   "source": [
    "Hamiltonian of Su–Schrieffer–Heeger model:\n",
    "$$H=v \\sum_{m=1}^N(|m, B\\rangle\\langle m, A|+ h.c. )+w \\sum_{m=1}^{N-1}(|m+1, A\\rangle\\langle m, B|+ h.c. )$$\n",
    "Calculating the local energy for a state $\\mathcal{S}$,\n",
    "\n",
    "$$E_\\text{loc}=\\frac{\\langle\\mathcal{S}|H|\\Psi_M\\rangle}{\\langle\\mathcal{S}|\\Psi_M\\rangle}=\\frac{\\sum_{S'}\\Psi_M(S')\\langle\\mathcal{S}|H|S'\\rangle}{\\Psi_M(\\mathcal{S})}$$\n"
   ]
  },
  {
   "cell_type": "code",
   "execution_count": 3,
   "metadata": {
    "collapsed": true
   },
   "outputs": [],
   "source": [
    "# define local energy\n",
    "def E_local(state):\n",
    "    # intracell hopping \n",
    "    state=np.array(state)\n",
    "\n",
    "    E_intra = 0 \n",
    "    for i in range(N): \n",
    "        if i == N-1:  \n",
    "            E_intra+=(state[i]*state[0])\n",
    "        else:\n",
    "            E_intra+=(state[i]*state[i+1])\n",
    "    E_intra = -1*E_intra\n",
    "\n",
    "    E_inter= 0\n",
    "    # intercell hopping\n",
    "    for i in range(N):  \n",
    "        state[i] *= -1  \n",
    "        E_inter += -Psi_M(state)\n",
    "        state[i] *= -1  # 恢复原值\n",
    "    E_inter = -E_inter/Psi_M(state)  # 除以波函数\n",
    "\n",
    "    E_total= E_intra + E_inter \n",
    "    return E_total/N  # 返回E除以N的值作为局部能量"
   ]
  },
  {
   "cell_type": "code",
   "execution_count": 4,
   "metadata": {},
   "outputs": [
    {
     "name": "stdout",
     "output_type": "stream",
     "text": [
      "The average local energy is:  (9.996661252878951-0.016110014623478774j)\n"
     ]
    }
   ],
   "source": [
    "# Import the product function to generate all possible basis states\n",
    "from itertools import product\n",
    "\n",
    "# Generate all possible basis states\n",
    "basis = list(product([1,-1],repeat=N))\n",
    "\n",
    "\n",
    "# Calculate the local energy for each basis state\n",
    "E = [E_local(basis[i]) for i in range(2**N)]\n",
    "\n",
    "# Calculate the average local energy\n",
    "avg_E_local = np.mean(E)\n",
    "print(\"The average local energy is: \", avg_E_local)"
   ]
  },
  {
   "cell_type": "markdown",
   "metadata": {},
   "source": [
    "Markov chain sampling\n",
    "$$S_0 \\xrightarrow[and \\ judge]{flip \\ a \\ spin} S_1 \\rightarrow S_2 \\rightarrow S_3 \\rightarrow S_4 \\rightarrow \\cdots$$\n",
    "$$P(\\text{accept})=\\frac{\\Psi_M(\\mathcal{S}_\\text{new})\\Psi^*_M(\\mathcal{S}_\\text{new})}{\\Psi_M(\\mathcal{S}_\\text{old})\\Psi^*_M(\\mathcal{S}_\\text{old})}$$"
   ]
  },
  {
   "cell_type": "code",
   "execution_count": 5,
   "metadata": {
    "collapsed": true
   },
   "outputs": [],
   "source": [
    "# MCMC sampling\n",
    "def MCMC_sampling(Spin):\n",
    "    # Choose random sites to be flipped\n",
    "    sites = np.random.choice(N, size=1, replace=False)\n",
    "    Psi_M_before = Psi_M(Spin)  \n",
    "    for i in sites:  \n",
    "        Spin[i] *= -1\n",
    "    Psi_M_after = Psi_M(Spin) \n",
    "    acceptance = np.real(Psi_M_after*np.conj(Psi_M_after)/(Psi_M_before*np.conj(Psi_M_before))) \n",
    "\n",
    "    # <U, reject\n",
    "    if acceptance < np.random.uniform():  \n",
    "        for i in sites:  \n",
    "            Spin[i] *= -1 \n",
    "        return 1 \n",
    "    # <U, accept\n",
    "    else:\n",
    "        return 0  "
   ]
  },
  {
   "cell_type": "markdown",
   "metadata": {},
   "source": [
    "Keep track of $\\nabla_\\mathcal{W}E_\\text{loc}$ and use these to update $\\mathcal{W}=\\{a,b,W\\}$\n",
    "\n",
    "$$\\nabla_\\mathcal{W}\\left<E\\right>=\\nabla_\\mathcal{W}\\sum_{s}E_\\text{loc}P(s)=\\sum_{s}P(s)\\nabla_\\mathcal{W}E_\\text{loc}+E_\\text{loc}\\nabla_\\mathcal{W}P(s)$$\n",
    "In this simulation we only keep track of the first term:\n",
    "$$\n",
    "\\partial_{a_i}E_\\text{loc}(S)=-h\\frac{\\Psi_M(S_\\text{flip i})}{\\Psi_M(S)}\\left[2\\sigma_i^z\\right]\n",
    "$$1\n",
    "$$\n",
    "\\partial_{b_j}E_\\text{loc}(S)=-h\\sum_{i}^N\\frac{\\Psi_M(S_\\text{flip i})}{\\Psi_M(S)}\\left[\\tanh{\\theta_j(S_\\text{flip i})}-\\tanh{\\theta_j(S)}\\right]\n",
    "$$\n",
    "$$\n",
    "\\partial_{W_{ij}}E_\\text{loc}(S)=-h\\sum_{i}^N\\frac{\\Psi_M(S_\\text{flip i})}{\\Psi_M(S)}\\left[-\\theta_i^z\\tanh{\\theta_j(S_\\text{flip i})}-\\theta_i^z\\tanh{\\theta_j(S)}\\right]\n",
    "$$"
   ]
  },
  {
   "cell_type": "markdown",
   "metadata": {},
   "source": [
    "$$\\frac{1}{E_{loc}(S)} \\partial_{a_i} E_{loc}(S)=\\sigma_i^z$$"
   ]
  },
  {
   "cell_type": "code",
   "execution_count": 6,
   "metadata": {},
   "outputs": [
    {
     "name": "stdout",
     "output_type": "stream",
     "text": [
      "1. E_loc=9.9394, std=0.0210, 5.0 % rejected\n",
      "2. E_loc=8.5565, std=0.0630, 37.2 % rejected\n"
     ]
    },
    {
     "ename": "KeyboardInterrupt",
     "evalue": "",
     "output_type": "error",
     "traceback": [
      "\u001b[0;31m---------------------------------------------------------------------------\u001b[0m",
      "\u001b[0;31mKeyboardInterrupt\u001b[0m                         Traceback (most recent call last)",
      "\u001b[1;32m/Users/along/Documents/Academic/Projects/NQS/Solving the Quantum Many-Body Problem with Artificial Neural Networks/SSH.ipynb Cell 14\u001b[0m line \u001b[0;36m3\n\u001b[1;32m     <a href='vscode-notebook-cell:/Users/along/Documents/Academic/Projects/NQS/Solving%20the%20Quantum%20Many-Body%20Problem%20with%20Artificial%20Neural%20Networks/SSH.ipynb#X15sZmlsZQ%3D%3D?line=35'>36</a>\u001b[0m \u001b[39mfor\u001b[39;00m i \u001b[39min\u001b[39;00m \u001b[39mrange\u001b[39m(N):  \n\u001b[1;32m     <a href='vscode-notebook-cell:/Users/along/Documents/Academic/Projects/NQS/Solving%20the%20Quantum%20Many-Body%20Problem%20with%20Artificial%20Neural%20Networks/SSH.ipynb#X15sZmlsZQ%3D%3D?line=36'>37</a>\u001b[0m     State[i] \u001b[39m*\u001b[39m\u001b[39m=\u001b[39m \u001b[39m-\u001b[39m\u001b[39m1\u001b[39m  \n\u001b[1;32m     <a href='vscode-notebook-cell:/Users/along/Documents/Academic/Projects/NQS/Solving%20the%20Quantum%20Many-Body%20Problem%20with%20Artificial%20Neural%20Networks/SSH.ipynb#X15sZmlsZQ%3D%3D?line=37'>38</a>\u001b[0m     dw_sum \u001b[39m+\u001b[39m\u001b[39m=\u001b[39m Psi_M(State)\u001b[39m/\u001b[39mPsi_M_s\u001b[39m*\u001b[39m(\n\u001b[0;32m---> <a href='vscode-notebook-cell:/Users/along/Documents/Academic/Projects/NQS/Solving%20the%20Quantum%20Many-Body%20Problem%20with%20Artificial%20Neural%20Networks/SSH.ipynb#X15sZmlsZQ%3D%3D?line=38'>39</a>\u001b[0m         \u001b[39m-\u001b[39mState[i]\u001b[39m*\u001b[39mnp\u001b[39m.\u001b[39mtanh(theta(State)[w_j])\u001b[39m-\u001b[39mState[i]\u001b[39m*\u001b[39mbefore_flip[w_j]) \n\u001b[1;32m     <a href='vscode-notebook-cell:/Users/along/Documents/Academic/Projects/NQS/Solving%20the%20Quantum%20Many-Body%20Problem%20with%20Artificial%20Neural%20Networks/SSH.ipynb#X15sZmlsZQ%3D%3D?line=39'>40</a>\u001b[0m     State[i] \u001b[39m*\u001b[39m\u001b[39m=\u001b[39m \u001b[39m-\u001b[39m\u001b[39m1\u001b[39m  \n\u001b[1;32m     <a href='vscode-notebook-cell:/Users/along/Documents/Academic/Projects/NQS/Solving%20the%20Quantum%20Many-Body%20Problem%20with%20Artificial%20Neural%20Networks/SSH.ipynb#X15sZmlsZQ%3D%3D?line=40'>41</a>\u001b[0m dw_sum \u001b[39m*\u001b[39m\u001b[39m=\u001b[39m h\n",
      "\u001b[1;32m/Users/along/Documents/Academic/Projects/NQS/Solving the Quantum Many-Body Problem with Artificial Neural Networks/SSH.ipynb Cell 14\u001b[0m line \u001b[0;36m2\n\u001b[1;32m      <a href='vscode-notebook-cell:/Users/along/Documents/Academic/Projects/NQS/Solving%20the%20Quantum%20Many-Body%20Problem%20with%20Artificial%20Neural%20Networks/SSH.ipynb#X15sZmlsZQ%3D%3D?line=0'>1</a>\u001b[0m \u001b[39m# define wave function\u001b[39;00m\n\u001b[0;32m----> <a href='vscode-notebook-cell:/Users/along/Documents/Academic/Projects/NQS/Solving%20the%20Quantum%20Many-Body%20Problem%20with%20Artificial%20Neural%20Networks/SSH.ipynb#X15sZmlsZQ%3D%3D?line=1'>2</a>\u001b[0m \u001b[39mdef\u001b[39;00m \u001b[39mtheta\u001b[39m(Spin):  \n\u001b[1;32m      <a href='vscode-notebook-cell:/Users/along/Documents/Academic/Projects/NQS/Solving%20the%20Quantum%20Many-Body%20Problem%20with%20Artificial%20Neural%20Networks/SSH.ipynb#X15sZmlsZQ%3D%3D?line=2'>3</a>\u001b[0m     \u001b[39mreturn\u001b[39;00m b \u001b[39m+\u001b[39m W\u001b[39m.\u001b[39mT \u001b[39m@\u001b[39m Spin  \n\u001b[1;32m      <a href='vscode-notebook-cell:/Users/along/Documents/Academic/Projects/NQS/Solving%20the%20Quantum%20Many-Body%20Problem%20with%20Artificial%20Neural%20Networks/SSH.ipynb#X15sZmlsZQ%3D%3D?line=4'>5</a>\u001b[0m \u001b[39mdef\u001b[39;00m \u001b[39mPsi_M\u001b[39m(Spin):  \n",
      "\u001b[0;31mKeyboardInterrupt\u001b[0m: "
     ]
    }
   ],
   "source": [
    "# Training parameters\n",
    "learning_rate = 0.1  \n",
    "learning_steps = 30\n",
    "MCMC_sample_number = 500\n",
    "\n",
    "\n",
    "block_E = []  \n",
    "# Training the network\n",
    "for block_i in range(learning_steps):  \n",
    "    state = np.random.choice([-1, 1], size=N)\n",
    "\n",
    "    rejected = 0  \n",
    "    array_E_loc = []  \n",
    "    array_a_d = [] \n",
    "    array_b_d = []  \n",
    "    array_w_d = []  \n",
    "\n",
    "    for k in range(MCMC_sample_number):  \n",
    "        rejected += MCMC_sampling(state)  \n",
    "        # print(Spin)\n",
    "        Psi_M_s = Psi_M(state)  \n",
    "\n",
    "        # Derivative a\n",
    "        a_deriv = np.zeros(N, dtype=np.complex_)  \n",
    "        for i in range(N):  \n",
    "            state[i] *= -1  \n",
    "            a_deriv[i] = -h*Psi_M(state)/Psi_M_s*2*state[i]  \n",
    "            state[i] *= -1  \n",
    "\n",
    "        # Derivative W\n",
    "        dW = np.zeros((N,M),dtype=np.complex_) \n",
    "        for w_i in range(N):  \n",
    "            for w_j in range(M): \n",
    "                dw_sum = 0  \n",
    "                before_flip = np.tanh(theta(state))  \n",
    "                for i in range(N):  \n",
    "                    state[i] *= -1  \n",
    "                    dw_sum += Psi_M(state)/Psi_M_s*(\n",
    "                        -state[i]*np.tanh(theta(state)[w_j])-state[i]*before_flip[w_j]) \n",
    "                    state[i] *= -1  \n",
    "                dw_sum *= h\n",
    "                dW[w_i,w_j] = dw_sum  \n",
    "\n",
    "        # Derivative b\n",
    "        b_deriv = np.zeros(M, dtype=np.complex_)  \n",
    "        for b_j in range(M):  \n",
    "            tanh_before_flip = np.tanh(theta(state))  \n",
    "            db_sum = 0  \n",
    "            for i in range(N):  \n",
    "                state[i] *= -1  \n",
    "                db_sum += Psi_M(state)/Psi_M_s*(\n",
    "                    np.tanh(theta(state)[b_j])-tanh_before_flip[b_j])  \n",
    "                state[i] *= -1  \n",
    "            b_deriv[b_j] = -h * db_sum \n",
    "\n",
    "        array_a_d.append(a_deriv)  \n",
    "        array_b_d.append(b_deriv)  \n",
    "        array_w_d.append(dW)  \n",
    "        array_E_loc.append(np.real(E_local(state)))  \n",
    "\n",
    "    print('%d. E_loc=%.4f, std=%.4f, %.1f %% rejected' % (block_i+1,\n",
    "        np.mean(array_E_loc),np.std(array_E_loc)/(np.sqrt(len(array_E_loc))), 100.*rejected/MCMC_sample_number))  \n",
    "\n",
    "    # expectation value \n",
    "    block_E.append(np.mean(array_E_loc))  \n",
    "    mean_da = np.mean(np.array(array_a_d),axis=0)  \n",
    "    mean_db = np.mean(np.array(array_b_d),axis=0)  \n",
    "    mean_dw = np.mean(np.array(array_w_d),axis=0)  \n",
    "\n",
    "    # Update the weights and biases\n",
    "    a = a - learning_rate * mean_da  \n",
    "    b = b - learning_rate * mean_db  \n",
    "    W = W - learning_rate * mean_dw  "
   ]
  },
  {
   "cell_type": "code",
   "execution_count": null,
   "metadata": {
    "collapsed": false
   },
   "outputs": [
    {
     "data": {
      "image/png": "[encoded data removed]",
      "text/plain": [
       "<Figure size 640x480 with 1 Axes>"
      ]
     },
     "metadata": {},
     "output_type": "display_data"
    }
   ],
   "source": [
    "import matplotlib.pyplot as plt\n",
    "\n",
    "# 绘制折线图\n",
    "plt.plot(block_E)\n",
    "plt.title('Local energy')\n",
    "plt.grid(True)\n",
    "plt.ylabel(r'$<E_{loc}>/N$')\n",
    "plt.xlabel('Iterations')\n",
    "plt.show()"
   ]
  }
 ],
 "metadata": {
  "kernelspec": {
   "display_name": "Python 3",
   "language": "python",
   "name": "python3"
  },
  "language_info": {
   "codemirror_mode": {
    "name": "ipython",
    "version": 3
   },
   "file_extension": ".py",
   "mimetype": "text/x-python",
   "name": "python",
   "nbconvert_exporter": "python",
   "pygments_lexer": "ipython3",
   "version": "3.11.4"
  }
 },
 "nbformat": 4,
 "nbformat_minor": 2
}
