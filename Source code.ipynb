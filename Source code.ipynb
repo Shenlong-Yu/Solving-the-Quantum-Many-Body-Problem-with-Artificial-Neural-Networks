{
 "cells": [
  {
   "cell_type": "markdown",
   "metadata": {},
   "source": [
    "# Solving the quantum many-body problem with NQS\n",
    "## 1D transverse field Ising model chain"
   ]
  },
  {
   "cell_type": "markdown",
   "metadata": {},
   "source": [
    "Specify the number of sites $N$, the size of the neural network $\\alpha$ and the field $h$:"
   ]
  },
  {
   "cell_type": "code",
   "execution_count": 1,
   "metadata": {
    "collapsed": false
   },
   "outputs": [],
   "source": [
    "import numpy as np\n",
    "%config InlineBackend.figure_format = 'retina' \n",
    "\n",
    "def random_complex(size):\n",
    "    a = (np.random.random(size) - .5) * 10e-2\n",
    "    b = (np.random.random(size) - .5) * 10e-2\n",
    "    return a + 1j*b\n",
    "\n",
    "N = 4\n",
    "alpha = 2\n",
    "M = alpha * N\n",
    "hfield = 2\n",
    "a = random_complex(N)\n",
    "b = random_complex(M)\n",
    "W = random_complex((N,M))\n",
    "state = np.random.randint(2, size=N)\n",
    "state[state == 0] = -1\n",
    "state_i = list(range(N))"
   ]
  },
  {
   "cell_type": "markdown",
   "metadata": {},
   "source": [
    "NQS provides our trial wave function / ansatz:\n",
    "$$\\Psi_M(\\mathcal{S})=e^{\\sum_i^Na_j\\sigma_j^z}\\prod_{j}^M2\\cosh\\left(\\theta_j\\right)$$\n",
    "with $\\theta_j(\\mathcal{S})=b_j\\sum_{i}^NW_{ij}h_i\\sigma_i^z$ (called effective angles in the paper)."
   ]
  },
  {
   "cell_type": "code",
   "execution_count": 2,
   "metadata": {
    "collapsed": true
   },
   "outputs": [],
   "source": [
    "def effective_angles(state):\n",
    "    return b+np.inner(np.transpose(W),state)\n",
    "\n",
    "def Psi_M(state,a,b,W):\n",
    "    return np.exp(np.inner(a,state)) * np.prod(2*np.cosh(effective_angles(state)))"
   ]
  },
  {
   "cell_type": "markdown",
   "metadata": {},
   "source": [
    "For the 1D transverse field Ising model:\n",
    "$$H_{\\text{TFI}}=-h\\sum_i \\sigma_i^x - \\sum_{ij}\\sigma_i^z\\sigma_j^z,$$\n",
    "with the Pauli matrices,\n",
    "$$\\sigma^x=\\begin{pmatrix}\n",
    "0 & 1\\\\\n",
    "1 & 0\n",
    "\\end{pmatrix}\\quad\n",
    "\\sigma^z=\\begin{pmatrix}\n",
    "1 & 0\\\\\n",
    "0 & -1\n",
    "\\end{pmatrix}.$$\n",
    "\n",
    "Calculating the local energy for a state $\\mathcal{S}$,\n",
    "\n",
    "$$E_\\text{loc}=\\frac{\\left<\\mathcal{S}\\right|H\\left|\\Psi_M\\right>}{\\Psi_M(\\mathcal{S})}$$\n",
    "use\n",
    "$$\\left|\\Psi_M\\right>=\\sum_{s'}\\Psi_M(s')\\left|s'\\right>\\quad\\left<s,s'\\right>=\\delta_{ss'}$$\n",
    "to find:"
   ]
  },
  {
   "cell_type": "code",
   "execution_count": 3,
   "metadata": {
    "collapsed": true
   },
   "outputs": [],
   "source": [
    "def E_loc(state):\n",
    "    E = 0\n",
    "    # \\sigma^z part\n",
    "    for i in state_i:\n",
    "        if i == N-1:\n",
    "            E-=(state[i]*state[0])\n",
    "        else:\n",
    "            E-=(state[i]*state[i+1])\n",
    "    \n",
    "    # \\sigma^x part\n",
    "    Psi_M_s = Psi_M(state,a,b,W)\n",
    "    for i in state_i:\n",
    "        state[i] *= -1\n",
    "        E -= -hfield*Psi_M(state,a,b,W)/Psi_M_s\n",
    "        state[i] *= -1 # flip back\n",
    "\n",
    "    return E/N"
   ]
  },
  {
   "cell_type": "markdown",
   "metadata": {},
   "source": [
    "## Quantum Monte Carlo Simulation\n",
    "Acceptance of a new configuration:\n",
    "$$P(\\text{accept})=\\frac{\\Psi_M(\\mathcal{S}_\\text{new})\\Psi^*_M(\\mathcal{S}_\\text{new})}{\\Psi_M(\\mathcal{S}_\\text{old})\\Psi^*_M(\\mathcal{S}_\\text{old})}$$"
   ]
  },
  {
   "cell_type": "code",
   "execution_count": 4,
   "metadata": {
    "collapsed": true
   },
   "outputs": [],
   "source": [
    "def step():\n",
    "    # Choose random sites to be flipped\n",
    "    sites = np.random.choice(state_i,1)\n",
    "    Psi_M_before = Psi_M(state,a,b,W)\n",
    "    for i in sites:\n",
    "        state[i] *= -1 # flip\n",
    "    Psi_M_after = Psi_M(state,a,b,W)\n",
    "    acceptance = np.real(Psi_M_after*np.conj(Psi_M_after)/(Psi_M_before*np.conj(Psi_M_before)))\n",
    "\n",
    "    if acceptance < np.random.uniform():\n",
    "        for i in sites:\n",
    "            state[i] *= -1 # flip back\n",
    "        return 1 # return 1 to count # of rejections\n",
    "    else:\n",
    "        return 0"
   ]
  },
  {
   "cell_type": "markdown",
   "metadata": {},
   "source": [
    "Keep track of $\\nabla_\\mathcal{W}E_\\text{loc}$ and use these to update $\\mathcal{W}=\\{a,b,W\\}$\n",
    "\n",
    "$$\\nabla_\\mathcal{W}\\left<E\\right>=\\nabla_\\mathcal{W}\\sum_{s}E_\\text{loc}P(s)=\\sum_{s}P(s)\\nabla_\\mathcal{W}E_\\text{loc}+E_\\text{loc}\\nabla_\\mathcal{W}P(s)$$\n",
    "In this simulation we only keep track of the first term:\n",
    "$$\n",
    "\\partial_{aj}E_\\text{loc}(S)=-h\\frac{\\Psi_M(S_\\text{flip i})}{\\Psi_M(S)}\\left[-2\\sigma_j^z\\right]\n",
    "$$\n",
    "$$\n",
    "\\partial_{bj}E_\\text{loc}(S)=-h\\sum_{i}^N\\frac{\\Psi_M(S_\\text{flip i})}{\\Psi_M(S)}\\left[\\tanh{\\theta_j(S_\\text{flip i})}-\\tanh{\\theta_j(S)}\\right]\n",
    "$$\n",
    "$$\n",
    "\\partial_{W_{ij}}E_\\text{loc}(S)=-h\\sum_{i}^N\\frac{\\Psi_M(S_\\text{flip i})}{\\Psi_M(S)}\\left[-\\theta_i^z\\tanh{\\theta_j(S_\\text{flip i})}-\\theta_i^z\\tanh{\\theta_j(S)}\\right]\n",
    "$$"
   ]
  },
  {
   "cell_type": "code",
   "execution_count": 5,
   "metadata": {
    "collapsed": false
   },
   "outputs": [
    {
     "name": "stdout",
     "output_type": "stream",
     "text": [
      "1. E_loc=1.9612 std=0.0325 (3.8 % moves rejected)\n",
      "2. E_loc=1.9839 std=0.0367 (3.7 % moves rejected)\n",
      "3. E_loc=1.9306 std=0.0395 (3.5 % moves rejected)\n",
      "4. E_loc=1.8883 std=0.0352 (3.6 % moves rejected)\n",
      "5. E_loc=1.7633 std=0.0356 (3.5 % moves rejected)\n",
      "6. E_loc=1.2137 std=0.0337 (4.8 % moves rejected)\n",
      "7. E_loc=0.4710 std=0.0337 (3.7 % moves rejected)\n",
      "8. E_loc=-0.2750 std=0.0315 (5.3 % moves rejected)\n",
      "9. E_loc=-0.8556 std=0.0353 (5.0 % moves rejected)\n",
      "10. E_loc=-1.5738 std=0.0383 (11.3 % moves rejected)\n",
      "11. E_loc=-1.9390 std=0.0380 (8.6 % moves rejected)\n",
      "12. E_loc=-1.9571 std=0.0372 (8.7 % moves rejected)\n",
      "13. E_loc=-1.9271 std=0.0390 (11.4 % moves rejected)\n",
      "14. E_loc=-1.9660 std=0.0372 (13.9 % moves rejected)\n",
      "15. E_loc=-2.0239 std=0.0379 (11.1 % moves rejected)\n",
      "16. E_loc=-2.0186 std=0.0365 (8.4 % moves rejected)\n",
      "17. E_loc=-1.9723 std=0.0389 (7.8 % moves rejected)\n",
      "18. E_loc=-2.0052 std=0.0319 (15.8 % moves rejected)\n",
      "19. E_loc=-2.0023 std=0.0365 (14.6 % moves rejected)\n",
      "20. E_loc=-1.9222 std=0.0389 (18.2 % moves rejected)\n",
      "21. E_loc=-1.9827 std=0.0387 (19.2 % moves rejected)\n",
      "22. E_loc=-1.9591 std=0.0408 (18.9 % moves rejected)\n",
      "23. E_loc=-2.0134 std=0.0338 (18.4 % moves rejected)\n",
      "24. E_loc=-2.0006 std=0.0332 (14.8 % moves rejected)\n",
      "25. E_loc=-1.9447 std=0.0360 (14.2 % moves rejected)\n",
      "26. E_loc=-1.9573 std=0.0403 (14.5 % moves rejected)\n",
      "27. E_loc=-2.0109 std=0.0368 (12.3 % moves rejected)\n",
      "28. E_loc=-1.9919 std=0.0339 (10.4 % moves rejected)\n",
      "29. E_loc=-1.9771 std=0.0342 (14.2 % moves rejected)\n",
      "30. E_loc=-1.9921 std=0.0312 (14.6 % moves rejected)\n"
     ]
    }
   ],
   "source": [
    "block_E = []\n",
    "for block_i in range(30):\n",
    "    state = np.random.randint(2, size=N)\n",
    "    state[state == 0] = -1\n",
    "    for k in range(10000):\n",
    "        step()\n",
    "    \n",
    "    iterations = 20000\n",
    "    rejected = 0\n",
    "    array_E_loc = []\n",
    "    \n",
    "    array_a_d = []\n",
    "    array_b_d = []\n",
    "    array_w_d = []\n",
    "\n",
    "    for k in range(iterations):\n",
    "        rejected += step()\n",
    "        \n",
    "        if k % 100 == 0:\n",
    "            Psi_M_s = Psi_M(state,a,b,W)\n",
    "            \n",
    "            # Derivative a\n",
    "            a_deriv = np.zeros(N, dtype=np.complex_)\n",
    "            for i in range(N):\n",
    "                state[i] *= -1 # flip\n",
    "                a_deriv[i] = -hfield*Psi_M(state,a,b,W)/Psi_M_s*2.*state[i]\n",
    "                state[i] *= -1 # flip back\n",
    "            \n",
    "            # Derivative W\n",
    "            dW = np.zeros((N,M),dtype=np.complex_)\n",
    "            for w_i in range(N):\n",
    "                for w_j in range(M):\n",
    "                    dw_sum = 0\n",
    "                    before_flip = np.tanh(effective_angles(state))\n",
    "                    for i in range(N):\n",
    "                        state[i] *= -1 # flip\n",
    "                        dw_sum += Psi_M(state,a,b,W)/Psi_M_s*(\n",
    "                            -state[i]*np.tanh(effective_angles(state)[w_j])-state[i]*before_flip[w_j])\n",
    "                        state[i] *= -1 # flip back\n",
    "                    dw_sum *= hfield\n",
    "                    dW[w_i,w_j] = dw_sum\n",
    "            \n",
    "            # Derivative b\n",
    "            b_deriv = np.zeros(M, dtype=np.complex_)\n",
    "            for b_j in range(M):\n",
    "                tanh_before_flip = np.tanh(effective_angles(state))\n",
    "                db_sum = 0\n",
    "                for i in range(N):\n",
    "                    state[i] *= -1 # flip\n",
    "                    db_sum += Psi_M(state,a,b,W)/Psi_M_s*(\n",
    "                        np.tanh(effective_angles(state)[b_j])-tanh_before_flip[b_j])\n",
    "                    state[i] *= -1 # flip back\n",
    "                b_deriv[b_j] = -hfield * db_sum \n",
    "                    \n",
    "            \n",
    "            array_a_d.append(a_deriv)\n",
    "            array_b_d.append(b_deriv)\n",
    "            array_w_d.append(dW)\n",
    "            array_E_loc.append(np.real(E_loc(state)))\n",
    "            \n",
    "    print('%d. E_loc=%.4f std=%.4f (%.1f %% moves rejected)' % (block_i+1,\n",
    "        np.mean(array_E_loc),np.std(array_E_loc)/(np.sqrt(len(array_E_loc))), 100.*rejected/iterations))\n",
    "    \n",
    "    block_E.append(np.mean(array_E_loc))\n",
    "    mean_da = np.mean(np.array(array_a_d),axis=0)\n",
    "    mean_db = np.mean(np.array(array_b_d),axis=0)\n",
    "    mean_dw = np.mean(np.array(array_w_d),axis=0)\n",
    "    a = a - .1 * mean_da\n",
    "    b = b - .1 * mean_db\n",
    "    W = W - .1 * mean_dw"
   ]
  },
  {
   "cell_type": "code",
   "execution_count": 6,
   "metadata": {
    "collapsed": false
   },
   "outputs": [
    {
     "data": {
      "text/plain": [
       "Text(0.5, 0, 'iterations')"
      ]
     },
     "execution_count": 6,
     "metadata": {},
     "output_type": "execute_result"
    },
    {
     "data": {
      "image/png": "[encoded data removed]",
      "text/plain": [
       "<Figure size 640x480 with 1 Axes>"
      ]
     },
     "metadata": {},
     "output_type": "display_data"
    }
   ],
   "source": [
    "%matplotlib inline\n",
    "import pandas as pd\n",
    "ax = pd.Series(block_E).plot(title=r'Local energy $\\frac{<E_{loc}>}{N}$',grid=True)\n",
    "ax.set_ylabel(r'$<E_{loc}>/N$')\n",
    "ax.set_xlabel('iterations')"
   ]
  },
  {
   "cell_type": "markdown",
   "metadata": {
    "collapsed": true
   },
   "source": [
    "## Exact solution"
   ]
  },
  {
   "cell_type": "markdown",
   "metadata": {},
   "source": [
    "Find the exact ground state energy by constructing all $H_{ij}=\\left<s_i\\right|H\\left| s_j\\right>$"
   ]
  },
  {
   "cell_type": "code",
   "execution_count": 7,
   "metadata": {
    "collapsed": false
   },
   "outputs": [
    {
     "name": "stdout",
     "output_type": "stream",
     "text": [
      "Generated 16 basis functions\n",
      "Ground state energy: -2.135779205069859\n"
     ]
    }
   ],
   "source": [
    "from itertools import product\n",
    "\n",
    "basis = list(product([-1,1],repeat=N))\n",
    "\n",
    "print('Generated %d basis functions' % (len(basis)))\n",
    "#print(len(basis_functions))\n",
    "\n",
    "#list(permutations([0,1,0,0]))\n",
    "H = np.zeros((2**N,2**N))\n",
    "for H_i in range(2**N):\n",
    "    for H_j in range(2**N):\n",
    "        H_sum = 0\n",
    "        for i in range(N):\n",
    "            if H_i == H_j:\n",
    "                if i == N-1:\n",
    "                    H_sum -= basis[H_j][i]*basis[H_j][0]\n",
    "                else:\n",
    "                    H_sum -= basis[H_j][i]*basis[H_j][i+1]\n",
    "\n",
    "            sj = list(basis[H_j])\n",
    "            sj[i] *= -1\n",
    "            if H_i == basis.index(tuple(sj)):\n",
    "                H_sum -= hfield\n",
    "\n",
    "        H[H_i,H_j] = H_sum\n",
    "            \n",
    "print('Ground state energy:', np.min(np.linalg.eigvals(H))/N)"
   ]
  },
  {
   "cell_type": "code",
   "execution_count": 9,
   "metadata": {},
   "outputs": [
    {
     "name": "stdout",
     "output_type": "stream",
     "text": [
      "0  iter :error is  [[0.08]]\n",
      "1  iter :error is  [[0.08]]\n",
      "2  iter :error is  [[0.08]]\n",
      "3  iter :error is  [[0.08]]\n",
      "4  iter :error is  [[0.08]]\n",
      "5  iter :error is  [[0.06]]\n",
      "6  iter :error is  [[0.06]]\n",
      "7  iter :error is  [[0.04]]\n",
      "8  iter :error is  [[0.]]\n",
      "[[0.14 0.16 0.14]]\n",
      "[[-1]\n",
      " [ 1]\n",
      " [ 1]\n",
      " [ 1]\n",
      " [-1]\n",
      " [-1]\n",
      " [ 1]\n",
      " [-1]]\n"
     ]
    }
   ],
   "source": [
    "import numpy as np\n",
    "#建立数据集\n",
    "x = np.mat([[1,0,0],[1,0,1],[1,1,0],[1,1,1],[0,0,1],[0,1,0],[0,1,1],[0,0,0]])\n",
    "y = np.mat([[-1],[1],[1],[1],[-1],[-1],[1],[-1],])\n",
    "\n",
    "#设置初始权值和偏置值\n",
    "w = np.mat([0.3,0.3,0.3])\n",
    "baise = 0.4\n",
    "\n",
    "#学习率\n",
    "rate = 0.01\n",
    "\n",
    "#激活函数\n",
    "def sgn(x):\n",
    "  return np.where(x >= 0.0, 1, -1)\n",
    "\n",
    "#通过学习规则，进行迭代\n",
    "for i in range(1000):\n",
    "  #误差计算\n",
    "  errors = 0\n",
    "  for j in range(len(x)):\n",
    "    #误差计算\n",
    "    r = rate*(y[j] - sgn(x[j]*w.T+baise))\n",
    "    #r = rate*(y[j] - (x[j]*w.T+baise))\n",
    "    #调整权值\n",
    "    w += r*x[j]\n",
    "    baise += r\n",
    "    #误差计算\n",
    "    errors += abs(r)\n",
    "  print(i,' iter :error is ', errors)\n",
    "  if errors ==0:\n",
    "    break\n",
    "print(w)\n",
    "print(sgn(x*w.T+baise))"
   ]
  }
 ],
 "metadata": {
  "kernelspec": {
   "display_name": "Python 3",
   "language": "python",
   "name": "python3"
  },
  "language_info": {
   "codemirror_mode": {
    "name": "ipython",
    "version": 3
   },
   "file_extension": ".py",
   "mimetype": "text/x-python",
   "name": "python",
   "nbconvert_exporter": "python",
   "pygments_lexer": "ipython3",
   "version": "3.11.6"
  }
 },
 "nbformat": 4,
 "nbformat_minor": 2
}
